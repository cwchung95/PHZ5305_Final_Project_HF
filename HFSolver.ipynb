{
 "cells": [
  {
   "cell_type": "markdown",
   "id": "c2f0b548",
   "metadata": {},
   "source": [
    "# Python code for final project PHZ5305: Interaction matrix elements and Hartree-Fock\n",
    "\n",
    "## Introduction.\n",
    "\n",
    "This code is written for the final project of PHZ5305 (Nuclear Physic 1), which will provide the tool for reads the list of single-particle states and the me2b generated, and solves the Hartree-Fock Equation. \n"
   ]
  },
  {
   "cell_type": "markdown",
   "id": "8882d6fe",
   "metadata": {},
   "source": [
    "## Import necessary packages.\n",
    "\n",
    "`numpy` is imported for computational works. `pandas` is imported for reading the values of me2b from outer sources, and `itertools` for iterational job for lists, for example permutations. "
   ]
  },
  {
   "cell_type": "code",
   "execution_count": 1,
   "id": "972c3415",
   "metadata": {},
   "outputs": [],
   "source": [
    "import numpy as np\n",
    "import pandas as pd\n",
    "import itertools as itr"
   ]
  },
  {
   "cell_type": "markdown",
   "id": "19e064af",
   "metadata": {},
   "source": [
    "## Define Class for Single-Particle States\n",
    "\n",
    "In this block, the class for single-particles states are generated.\n",
    "\n",
    "In the `__init__` block, the basic definition of `SP_States` are implied.\n",
    "\n",
    "In the `nucleon_loop` block, the loop that generates `SP_list` is encoded.\n",
    "\n",
    "In the `generate_lists` block, by using `nucleon_loop` function twice to make the list of single particle states. "
   ]
  },
  {
   "cell_type": "code",
   "execution_count": 2,
   "id": "610ab493",
   "metadata": {},
   "outputs": [],
   "source": [
    "class SP_States:\n",
    "    def __init__(self,A,Z):\n",
    "        self.A = A                                     # Atomic Mass\n",
    "        self.Z = Z                                     # Number of Protons\n",
    "        self.N = A-Z                                   # Number of Neutrons\n",
    "        self.i_degen = [2, 4, 2]                       # degeneracy for 0s1/2, 0p3/2, 0p1/2 shells\n",
    "        self.i_numsh = [0, 1, 1]                       # Will be implied as l\n",
    "    \n",
    "    def nucleon_loop(self, SP_list, tz):\n",
    "        i_shell = 0\n",
    "        N_nucl  = 0                                    # Number of Nucleon\n",
    "        I_nucl  = 0 \n",
    "        \n",
    "        if   tz == -0.5 : N_nucl = self.Z\n",
    "        elif tz ==  0.5 : N_nucl = self.N\n",
    "        \n",
    "        index = len(SP_list)\n",
    "        \n",
    "        for itr in range(len(self.i_degen)):\n",
    "            n     = 0                                  # shell's n\n",
    "            l     = self.i_numsh[itr]                  # for first shell, l = 0, and for second and third shell, l = 1\n",
    "            j     = (self.i_degen[itr]-1)/2            # from num. deg. states = 2J+1 -> J = (num. deg. states-1)/2 \n",
    "            mj    = -j                                 # Starting from mj = -j\n",
    "            if I_nucl == N_nucl: break                 # Break the loop when it reaches N_nucl\n",
    "            while mj < j+1 :                           # Start iteration from mj = -j to mj = +j\n",
    "                SP_list.append([index,n,l,j,mj,tz])    # Generate the single-particle states for protons\n",
    "                mj     = mj     + 1                    # mj up\n",
    "                I_nucl = I_nucl + 1\n",
    "                index  = index  + 1                    # index   \n",
    "\n",
    "        else: i_shell = i_shell+1\n",
    "    \n",
    "    def generate_lists_SP(self):\n",
    "        SP_list = []                                   # Single Particle State's List\n",
    "        \n",
    "        self.nucleon_loop(SP_list, -0.5)               # Loop for Proton\n",
    "        self.nucleon_loop(SP_list,  0.5)               # Loop for Neutron\n",
    "        \n",
    "        self.SP_list = SP_list\n",
    "        return SP_list\n",
    "        "
   ]
  },
  {
   "cell_type": "markdown",
   "id": "ff6691dc",
   "metadata": {},
   "source": [
    "## Define class for generate two-particle states from one-particle states, and antisymmetrize it.\n",
    "\n",
    "In this block, the class that have an input of the list of single-particle states and generate the list of double-particle states."
   ]
  },
  {
   "cell_type": "code",
   "execution_count": 3,
   "id": "af57c8b8",
   "metadata": {},
   "outputs": [],
   "source": [
    "class TB_States:\n",
    "    def __init__(self,SP_States):\n",
    "        self.A = SP_States.A                             # Atomic mass\n",
    "        self.Z = SP_States.Z                             # Number of Protons\n",
    "        self.N = SP_States.N                             # Number of Neutrons\n",
    "        self.list_SP = SP_States.generate_lists_SP()     # Generate the Single Particle States\n",
    "        \n",
    "    def generate_lists_TB(self):                         # Generates the list of two-body states, not antisymmetrized yet.\n",
    "        Ind_SP = list(np.arange(0,len(self.list_SP),1))  # Generate index for one-body states\n",
    "        Ind_TB = [[i_SP, j_SP] for i_SP in Ind_SP for j_SP in Ind_SP if i_SP<j_SP and self.TB_analyzer([i_SP,j_SP])] \n",
    "                                                         # Generate the two-body index states, ignoring i=j cases\n",
    "        self.Ind_TB = Ind_TB\n",
    "        return Ind_TB\n",
    "        \n",
    "    def assymetrizer(self):                              # Assymetrize the results of generate_lists_TB.\n",
    "        self.generate_lists_TB()                         # Get Two-Body states (not asymmetrized)\n",
    "        Asym_Ind_TB = [list(itr.permutations(i_Ind_TB)) for i_Ind_TB in self.Ind_TB if self.TB_analyzer(i_Ind_TB)]\n",
    "                                                         # Generate all the permutations in Ind_TB\n",
    "        self.Asym_Ind_TB = Asym_Ind_TB\n",
    "        return Asym_Ind_TB                               # Return permutated Two-body states\n",
    "        \n",
    "    def TB_analyzer(self, TB_State):                     # Input two-body state (a,b) and analyize the state is in Jp=0+\n",
    "        Stat1 = self.list_SP[int(TB_State[0])]\n",
    "        Stat2 = self.list_SP[int(TB_State[1])]\n",
    "        \n",
    "        n1, l1, j1, mj1 = Stat1[1], Stat1[2], Stat1[3], Stat1[4]\n",
    "        n2, l2, j2, mj2 = Stat2[1], Stat2[2], Stat2[3], Stat2[4]\n",
    "        \n",
    "        \n",
    "        \n",
    "        if l1 == l2 and mj1 == -1*mj2 and j1 == j2 and n1==n2 : return True\n",
    "        else: return False\n",
    "        \n",
    "        \n",
    "        "
   ]
  },
  {
   "cell_type": "markdown",
   "id": "2095ccf7",
   "metadata": {},
   "source": [
    "## Define class for Hamiltonian \n",
    "\n",
    "This class has `onebody` function and `twobody` function"
   ]
  },
  {
   "cell_type": "code",
   "execution_count": 4,
   "id": "f048224e",
   "metadata": {},
   "outputs": [],
   "source": [
    "class Hamiltonian:\n",
    "    def __init__(self, SP_States):\n",
    "        self.A = SP_States.A                                # Atomic mass\n",
    "        self.Z = SP_States.Z                                # Number of Protons\n",
    "        self.N = SP_States.N                                # Number of Neutrons\n",
    "        self.list_SP = SP_States.generate_lists_SP()        # Generate the Single Particle States\n",
    "        self.list_TB = TB_States(SP_States).assymetrizer()  # Generate the Two-Particle States\n",
    "        \n",
    "    def onebody(self, SP_State):                            # Generate diagonal one-body energy for each single-particle states\n",
    "        e_gap = 41*(self.A)^-0.33                           # Generate energy gap: 41*A^{1/3} MeV\n",
    "        n, l = SP_State[1], SP_State[2]                     # Get quantum numbers n and l from SP_State\n",
    "        return e_gap*(2*n + l + 1.5)                        # Return one-body energy\n",
    "    \n",
    "    def twobody(self, TB_State1, TB_State2, str_data):      # Generate two-body interaction, input is (a,b) and output is (c,d)\n",
    "        with open(str_data, \"r\") as infilie:\n",
    "            for line in infile:\n",
    "                number = line.split()\n",
    "        "
   ]
  },
  {
   "cell_type": "markdown",
   "id": "8647a15f",
   "metadata": {},
   "source": [
    "## Main "
   ]
  },
  {
   "cell_type": "code",
   "execution_count": 5,
   "id": "21b4ef03",
   "metadata": {},
   "outputs": [
    {
     "name": "stdout",
     "output_type": "stream",
     "text": [
      "[[0, 1], [0, 9], [1, 8], [2, 5], [2, 13], [3, 4], [3, 12], [4, 11], [5, 10], [6, 7], [6, 15], [7, 14], [8, 9], [10, 13], [11, 12], [14, 15]]\n",
      "[[0, 0, 0, 0.5, -0.5, -0.5], [1, 0, 0, 0.5, 0.5, -0.5], [2, 0, 1, 1.5, -1.5, -0.5], [3, 0, 1, 1.5, -0.5, -0.5], [4, 0, 1, 1.5, 0.5, -0.5], [5, 0, 1, 1.5, 1.5, -0.5], [6, 0, 1, 0.5, -0.5, -0.5], [7, 0, 1, 0.5, 0.5, -0.5], [8, 0, 0, 0.5, -0.5, 0.5], [9, 0, 0, 0.5, 0.5, 0.5], [10, 0, 1, 1.5, -1.5, 0.5], [11, 0, 1, 1.5, -0.5, 0.5], [12, 0, 1, 1.5, 0.5, 0.5], [13, 0, 1, 1.5, 1.5, 0.5], [14, 0, 1, 0.5, -0.5, 0.5], [15, 0, 1, 0.5, 0.5, 0.5]]\n"
     ]
    }
   ],
   "source": [
    "if __name__ == '__main__':\n",
    "    O16 = SP_States(16,8)\n",
    "    TB_O16 = TB_States(O16)\n",
    "    A = TB_O16.generate_lists_TB()\n",
    "    print(A)\n",
    "    print(O16.SP_list)"
   ]
  },
  {
   "cell_type": "code",
   "execution_count": null,
   "id": "3ec13993",
   "metadata": {},
   "outputs": [],
   "source": []
  }
 ],
 "metadata": {
  "kernelspec": {
   "display_name": "Python 3 (ipykernel)",
   "language": "python",
   "name": "python3"
  },
  "language_info": {
   "codemirror_mode": {
    "name": "ipython",
    "version": 3
   },
   "file_extension": ".py",
   "mimetype": "text/x-python",
   "name": "python",
   "nbconvert_exporter": "python",
   "pygments_lexer": "ipython3",
   "version": "3.11.0"
  }
 },
 "nbformat": 4,
 "nbformat_minor": 5
}
